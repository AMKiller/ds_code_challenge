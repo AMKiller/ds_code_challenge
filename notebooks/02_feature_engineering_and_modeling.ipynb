{
 "cells": [
  {
   "cell_type": "code",
   "execution_count": 61,
   "id": "2aaeffcd",
   "metadata": {},
   "outputs": [
    {
     "name": "stdout",
     "output_type": "stream",
     "text": [
      "Requirement already satisfied: yellowbrick in /opt/conda/envs/ds-env/lib/python3.10/site-packages (1.5)\n",
      "Requirement already satisfied: matplotlib!=3.0.0,>=2.0.2 in /opt/conda/envs/ds-env/lib/python3.10/site-packages (from yellowbrick) (3.10.0)\n",
      "Requirement already satisfied: scipy>=1.0.0 in /opt/conda/envs/ds-env/lib/python3.10/site-packages (from yellowbrick) (1.15.3)\n",
      "Requirement already satisfied: scikit-learn>=1.0.0 in /opt/conda/envs/ds-env/lib/python3.10/site-packages (from yellowbrick) (1.1.1)\n",
      "Requirement already satisfied: numpy>=1.16.0 in /opt/conda/envs/ds-env/lib/python3.10/site-packages (from yellowbrick) (1.26.4)\n",
      "Requirement already satisfied: cycler>=0.10.0 in /opt/conda/envs/ds-env/lib/python3.10/site-packages (from yellowbrick) (0.12.1)\n",
      "Requirement already satisfied: contourpy>=1.0.1 in /opt/conda/envs/ds-env/lib/python3.10/site-packages (from matplotlib!=3.0.0,>=2.0.2->yellowbrick) (1.0.2)\n",
      "Requirement already satisfied: fonttools>=4.22.0 in /opt/conda/envs/ds-env/lib/python3.10/site-packages (from matplotlib!=3.0.0,>=2.0.2->yellowbrick) (4.33.3)\n",
      "Requirement already satisfied: kiwisolver>=1.3.1 in /opt/conda/envs/ds-env/lib/python3.10/site-packages (from matplotlib!=3.0.0,>=2.0.2->yellowbrick) (1.4.2)\n",
      "Requirement already satisfied: packaging>=20.0 in /opt/conda/envs/ds-env/lib/python3.10/site-packages (from matplotlib!=3.0.0,>=2.0.2->yellowbrick) (25.0)\n",
      "Requirement already satisfied: pillow>=8 in /opt/conda/envs/ds-env/lib/python3.10/site-packages (from matplotlib!=3.0.0,>=2.0.2->yellowbrick) (11.1.0)\n",
      "Requirement already satisfied: pyparsing>=2.3.1 in /opt/conda/envs/ds-env/lib/python3.10/site-packages (from matplotlib!=3.0.0,>=2.0.2->yellowbrick) (3.2.3)\n",
      "Requirement already satisfied: python-dateutil>=2.7 in /opt/conda/envs/ds-env/lib/python3.10/site-packages (from matplotlib!=3.0.0,>=2.0.2->yellowbrick) (2.9.0.post0)\n",
      "Requirement already satisfied: six>=1.5 in /opt/conda/envs/ds-env/lib/python3.10/site-packages (from python-dateutil>=2.7->matplotlib!=3.0.0,>=2.0.2->yellowbrick) (1.17.0)\n",
      "Requirement already satisfied: joblib>=1.0.0 in /opt/conda/envs/ds-env/lib/python3.10/site-packages (from scikit-learn>=1.0.0->yellowbrick) (1.5.1)\n",
      "Requirement already satisfied: threadpoolctl>=2.0.0 in /opt/conda/envs/ds-env/lib/python3.10/site-packages (from scikit-learn>=1.0.0->yellowbrick) (3.6.0)\n"
     ]
    }
   ],
   "source": [
    "# !pip install h3==3.7.6 --force-reinstall\n",
    "# !pip install --upgrade shapely\n",
    "# !pip install osmnx --upgrade\n",
    "# !pip install shap\n",
    "# !pip install lightgbm\n",
    "# !pip install optuna\n",
    "\n",
    "!pip install yellowbrick"
   ]
  },
  {
   "cell_type": "code",
   "execution_count": 62,
   "id": "70c87d06",
   "metadata": {},
   "outputs": [],
   "source": [
    "import osmnx as ox\n",
    "import geopandas as gpd\n",
    "import pandas as pd\n",
    "import numpy as np\n",
    "from h3 import h3\n",
    "import gzip\n",
    "import shutil\n",
    "import os\n",
    "from shapely.geometry import Point\n",
    "from shapely.geometry import Polygon\n",
    "from h3 import geo_to_h3, h3_to_geo\n",
    "import time\n",
    "import logging\n",
    "from datetime import datetime\n",
    "import seaborn as sns\n",
    "import matplotlib\n",
    "matplotlib.rc('font', family='DejaVu Sans')\n",
    "from functools import reduce\n",
    "from sklearn.ensemble import RandomForestRegressor\n",
    "from sklearn.linear_model import LinearRegression\n",
    "from lightgbm import LGBMRegressor\n",
    "from sklearn.metrics import r2_score, mean_squared_error\n",
    "import shap\n",
    "from sklearn.model_selection import train_test_split\n",
    "from sklearn.pipeline import Pipeline\n",
    "from sklearn.compose import ColumnTransformer, make_column_selector as selector\n",
    "from sklearn.impute import SimpleImputer\n",
    "from sklearn.dummy import DummyRegressor\n",
    "from sklearn.preprocessing import OneHotEncoder, StandardScaler\n",
    "import optuna\n",
    "from yellowbrick.regressor import PredictionError, ResidualsPlot\n",
    "from yellowbrick.regressor.alphas import AlphaSelection\n",
    "\n",
    "plt.style.use('fivethirtyeight')\n",
    "\n",
    "import warnings\n",
    "warnings.filterwarnings(\"ignore\")"
   ]
  },
  {
   "cell_type": "code",
   "execution_count": 77,
   "id": "7fe01369",
   "metadata": {},
   "outputs": [],
   "source": [
    "H3_RESOLUTION = 8\n",
    "TARGET_TYPE = 'Sewer: Blocked/Overflow'"
   ]
  },
  {
   "cell_type": "code",
   "execution_count": 64,
   "id": "bc7b1882",
   "metadata": {},
   "outputs": [
    {
     "name": "stdout",
     "output_type": "stream",
     "text": [
      "Processing sr_hex.csv.gz...\n"
     ]
    },
    {
     "name": "stdout",
     "output_type": "stream",
     "text": [
      "Loaded sr_hex.csv.gz in 9.71 seconds\n"
     ]
    }
   ],
   "source": [
    "#load the data\n",
    "\n",
    "start_time = time.time()\n",
    "\n",
    "file_name = \"sr_hex.csv.gz\"\n",
    "var_name = \"df_sr_hex\"\n",
    "base_url = \"https://cct-ds-code-challenge-input-data.s3.af-south-1.amazonaws.com/\"\n",
    "url = base_url + file_name\n",
    "\n",
    "print(f\"Processing {file_name}...\")\n",
    "!wget -q {url}\n",
    "\n",
    "# Unzip and load\n",
    "csv_name = file_name[:-3]  \n",
    "with gzip.open(file_name, 'rb') as f_in:\n",
    "    with open(csv_name, 'wb') as f_out:\n",
    "        shutil.copyfileobj(f_in, f_out)\n",
    "\n",
    "os.remove(file_name)  \n",
    "\n",
    "df = pd.read_csv(csv_name)\n",
    "\n",
    "print(f\"Loaded {file_name} in {time.time() - start_time:.2f} seconds\")"
   ]
  },
  {
   "cell_type": "code",
   "execution_count": 65,
   "id": "5b2f05f0",
   "metadata": {},
   "outputs": [
    {
     "name": "stdout",
     "output_type": "stream",
     "text": [
      "(941634, 16)\n",
      "(729270, 16)\n"
     ]
    }
   ],
   "source": [
    "# Drop Records where h3_level8_index = '0' / is missing\n",
    "print(df.shape)\n",
    "df = df.loc[df.h3_level8_index != '0']\n",
    "print(df.shape)"
   ]
  },
  {
   "cell_type": "code",
   "execution_count": null,
   "id": "82b959f8",
   "metadata": {},
   "outputs": [],
   "source": [
    "#Filter out records for TARGET_TYPE\n",
    "\n",
    "\n",
    "df_type = df[df['code'] == TARGET_TYPE].groupby(['h3_level8_index'])['notification_number'].count().reset_index(name='num_requests')"
   ]
  },
  {
   "cell_type": "code",
   "execution_count": 67,
   "id": "b1659c83",
   "metadata": {},
   "outputs": [
    {
     "data": {
      "text/html": [
       "<div>\n",
       "<style scoped>\n",
       "    .dataframe tbody tr th:only-of-type {\n",
       "        vertical-align: middle;\n",
       "    }\n",
       "\n",
       "    .dataframe tbody tr th {\n",
       "        vertical-align: top;\n",
       "    }\n",
       "\n",
       "    .dataframe thead th {\n",
       "        text-align: right;\n",
       "    }\n",
       "</style>\n",
       "<table border=\"1\" class=\"dataframe\">\n",
       "  <thead>\n",
       "    <tr style=\"text-align: right;\">\n",
       "      <th></th>\n",
       "      <th>h3_level8_index</th>\n",
       "      <th>num_requests</th>\n",
       "    </tr>\n",
       "  </thead>\n",
       "  <tbody>\n",
       "    <tr>\n",
       "      <th>0</th>\n",
       "      <td>88ad360001fffff</td>\n",
       "      <td>21</td>\n",
       "    </tr>\n",
       "    <tr>\n",
       "      <th>1</th>\n",
       "      <td>88ad360003fffff</td>\n",
       "      <td>12</td>\n",
       "    </tr>\n",
       "  </tbody>\n",
       "</table>\n",
       "</div>"
      ],
      "text/plain": [
       "   h3_level8_index  num_requests\n",
       "0  88ad360001fffff            21\n",
       "1  88ad360003fffff            12"
      ]
     },
     "execution_count": 67,
     "metadata": {},
     "output_type": "execute_result"
    }
   ],
   "source": [
    "df_type.head(2)"
   ]
  },
  {
   "cell_type": "code",
   "execution_count": 68,
   "id": "6ea42925",
   "metadata": {},
   "outputs": [],
   "source": [
    "#Helper function\n",
    "def h3_to_point(h3, resolution=8):\n",
    "    return h3_to_geo(h3)\n",
    "\n",
    "# Convert each h3_index to lat/lon\n",
    "df_type[['latitude', 'longitude']] = df_type['h3_level8_index'].apply(lambda h: pd.Series(h3_to_point(h)))"
   ]
  },
  {
   "cell_type": "code",
   "execution_count": 69,
   "id": "e077d40a",
   "metadata": {},
   "outputs": [
    {
     "data": {
      "text/html": [
       "<div>\n",
       "<style scoped>\n",
       "    .dataframe tbody tr th:only-of-type {\n",
       "        vertical-align: middle;\n",
       "    }\n",
       "\n",
       "    .dataframe tbody tr th {\n",
       "        vertical-align: top;\n",
       "    }\n",
       "\n",
       "    .dataframe thead th {\n",
       "        text-align: right;\n",
       "    }\n",
       "</style>\n",
       "<table border=\"1\" class=\"dataframe\">\n",
       "  <thead>\n",
       "    <tr style=\"text-align: right;\">\n",
       "      <th></th>\n",
       "      <th>h3_level8_index</th>\n",
       "      <th>num_requests</th>\n",
       "      <th>latitude</th>\n",
       "      <th>longitude</th>\n",
       "    </tr>\n",
       "  </thead>\n",
       "  <tbody>\n",
       "    <tr>\n",
       "      <th>0</th>\n",
       "      <td>88ad360001fffff</td>\n",
       "      <td>21</td>\n",
       "      <td>-33.836215</td>\n",
       "      <td>18.494065</td>\n",
       "    </tr>\n",
       "    <tr>\n",
       "      <th>1</th>\n",
       "      <td>88ad360003fffff</td>\n",
       "      <td>12</td>\n",
       "      <td>-33.832471</td>\n",
       "      <td>18.485002</td>\n",
       "    </tr>\n",
       "  </tbody>\n",
       "</table>\n",
       "</div>"
      ],
      "text/plain": [
       "   h3_level8_index  num_requests   latitude  longitude\n",
       "0  88ad360001fffff            21 -33.836215  18.494065\n",
       "1  88ad360003fffff            12 -33.832471  18.485002"
      ]
     },
     "execution_count": 69,
     "metadata": {},
     "output_type": "execute_result"
    }
   ],
   "source": [
    "df_type.head(2)"
   ]
  },
  {
   "cell_type": "markdown",
   "id": "c276c8d3",
   "metadata": {},
   "source": [
    "## Initial Solution - Baseline Model"
   ]
  },
  {
   "cell_type": "code",
   "execution_count": 70,
   "id": "1f5071ce",
   "metadata": {},
   "outputs": [
    {
     "name": "stdout",
     "output_type": "stream",
     "text": [
      "Out-of-Bag Score: 0.28829043409517463\n",
      "RMSE: 114.61433570429212\n",
      "R2: 0.3068861687582174\n"
     ]
    }
   ],
   "source": [
    "\n",
    "X = df_type.drop(['num_requests'], axis=1)\n",
    "X = X.set_index('h3_level8_index')\n",
    "y = df_type['num_requests']\n",
    "\n",
    "X_train, X_test, y_train, y_test = train_test_split(X, y,random_state=42)\n",
    "\n",
    "#_train = np.log1p(y_train)\n",
    "regressor = RandomForestRegressor(n_estimators = 50,oob_score = True)\n",
    "regressor.fit(X_train, y_train)\n",
    "\n",
    "y_pred = regressor.predict(X_test)\n",
    "#y_pred = np.expm1(y_log_pred)\n",
    "\n",
    "oob_score = regressor.oob_score_\n",
    "print(f'Out-of-Bag Score: {oob_score}')\n",
    "\n",
    "print(\"RMSE:\", mean_squared_error(y_test, y_pred, squared=False))\n",
    "print(\"R2:\", r2_score(y_test, y_pred))"
   ]
  },
  {
   "cell_type": "code",
   "execution_count": 71,
   "id": "26f4b1d4",
   "metadata": {},
   "outputs": [
    {
     "data": {
      "image/png": "[encoded data removed]",
      "text/plain": [
       "<Figure size 800x550 with 1 Axes>"
      ]
     },
     "metadata": {},
     "output_type": "display_data"
    },
    {
     "data": {
      "text/plain": [
       "<Axes: title={'center': 'Prediction Error for RandomForestRegressor'}, xlabel='$y$', ylabel='$\\\\hat{y}$'>"
      ]
     },
     "execution_count": 71,
     "metadata": {},
     "output_type": "execute_result"
    }
   ],
   "source": [
    "visualizer = PredictionError(regressor)\n",
    "\n",
    "visualizer.fit(X_train, y_train)  # Fit the training data to the visualizer\n",
    "visualizer.score(X_test, y_test)  # Evaluate the model on the test data\n",
    "visualizer.show()                 # Finalize and render the figure"
   ]
  },
  {
   "cell_type": "code",
   "execution_count": 72,
   "id": "68bcb794",
   "metadata": {},
   "outputs": [
    {
     "data": {
      "image/png": "[encoded data removed]",
      "text/plain": [
       "<Figure size 800x550 with 2 Axes>"
      ]
     },
     "metadata": {},
     "output_type": "display_data"
    },
    {
     "data": {
      "text/plain": [
       "<Axes: title={'center': 'Residuals for RandomForestRegressor Model'}, xlabel='Predicted Value', ylabel='Residuals'>"
      ]
     },
     "execution_count": 72,
     "metadata": {},
     "output_type": "execute_result"
    }
   ],
   "source": [
    "visualizer = ResidualsPlot(regressor)\n",
    "\n",
    "visualizer.fit(X_train, y_train)  # Fit the training data to the visualizer\n",
    "visualizer.score(X_test, y_test)  # Evaluate the model on the test data\n",
    "visualizer.show()                 # Finalize and render the figure"
   ]
  },
  {
   "cell_type": "code",
   "execution_count": 73,
   "id": "58e4ee99",
   "metadata": {},
   "outputs": [
    {
     "data": {
      "image/png": "[encoded data removed]",
      "text/plain": [
       "<Figure size 800x230 with 2 Axes>"
      ]
     },
     "metadata": {},
     "output_type": "display_data"
    }
   ],
   "source": [
    "explainer = shap.Explainer(regressor)\n",
    "shap_values = explainer(X)\n",
    "\n",
    "shap.plots.beeswarm(shap_values)"
   ]
  },
  {
   "cell_type": "markdown",
   "id": "64fdd420",
   "metadata": {},
   "source": [
    "## Improved Solution\n",
    "### Feature Engineering - Add External Data"
   ]
  },
  {
   "cell_type": "code",
   "execution_count": 74,
   "id": "28b485df",
   "metadata": {},
   "outputs": [
    {
     "name": "stdout",
     "output_type": "stream",
     "text": [
      "Fetching Cape Town boundary...\n",
      "Fetching num_schools...\n"
     ]
    },
    {
     "name": "stdout",
     "output_type": "stream",
     "text": [
      "Fetching num_shops...\n",
      "Fetching num_bus_stops...\n",
      "Fetching num_clinics...\n",
      "Fetching num_hospitals...\n",
      "Fetching num_post_offices...\n",
      "Fetching num_pharmacies...\n",
      "Fetching num_banks...\n",
      "Fetching num_traffic_signals...\n",
      "Fetching num_religious_sites...\n",
      "Merging all feature tables...\n",
      "Final H3 feature summary:\n"
     ]
    }
   ],
   "source": [
    "# Features from OpenStreetMaps  (https://wiki.openstreetmap.org/wiki/Map_features)\n",
    "\n",
    "# -------------------------------\n",
    "# Settings\n",
    "# -------------------------------\n",
    "place_name = \"City of Cape Town, Western Cape, South Africa\"\n",
    "resolution = 8\n",
    "\n",
    "feature_tags = {\n",
    "    \"num_schools\": {\"amenity\": \"school\"},\n",
    "    \"num_shops\": {\"shop\": True},\n",
    "    \"num_bus_stops\": {\"highway\": \"bus_stop\"},\n",
    "    \"num_clinics\": {\"amenity\": \"clinic\"},\n",
    "    \"num_hospitals\": {\"amenity\": \"hospital\"},\n",
    "    \"num_post_offices\": {\"amenity\": \"post_office\"},\n",
    "    \"num_pharmacies\": {\"amenity\": \"pharmacy\"},\n",
    "    \"num_banks\": {\"amenity\": \"bank\"},\n",
    "    \"num_traffic_signals\": {\"highway\": \"traffic_signals\"},\n",
    "    \"num_religious_sites\": {\"amenity\": [\"place_of_worship\", \"church\", \"mosque\", \"synagogue\", \"temple\"]},\n",
    "}\n",
    "\n",
    "# -------------------------------\n",
    "# Get Cape Town polygon using unary_union\n",
    "# -------------------------------\n",
    "print(\"Fetching Cape Town boundary...\")\n",
    "gdf_boundary = ox.geocode_to_gdf(place_name)\n",
    "polygon = gdf_boundary.geometry.unary_union\n",
    "\n",
    "# -------------------------------\n",
    "# Helper functions\n",
    "# -------------------------------\n",
    "def point_to_h3(point, resolution=8):\n",
    "    return h3.geo_to_h3(point.y, point.x, resolution)\n",
    "\n",
    "def extract_and_aggregate(tag_label, tag_filter):\n",
    "    print(f\"Fetching {tag_label}...\")\n",
    "    try:\n",
    "        time.sleep(2)\n",
    "        gdf = ox.features_from_polygon(polygon, tags=tag_filter)\n",
    "    except Exception as e:\n",
    "        print(f\"Failed to fetch {tag_label}: {e}\")\n",
    "        return pd.DataFrame(columns=[\"h3_level8_index\", tag_label])\n",
    "\n",
    "    gdf = gdf[gdf.geometry.notna()].copy()\n",
    "\n",
    "    if gdf.geom_type.isin(['Polygon', 'MultiPolygon']).any():\n",
    "        gdf['geometry'] = gdf['geometry'].centroid\n",
    "\n",
    "    gdf = gdf[gdf.geometry.type == 'Point']\n",
    "    gdf['h3_level8_index'] = gdf['geometry'].apply(lambda pt: point_to_h3(pt, resolution))\n",
    "\n",
    "    agg = gdf.groupby('h3_level8_index').size().reset_index(name=tag_label)\n",
    "    return agg\n",
    "\n",
    "# -------------------------------\n",
    "# Loop and Merge All Features\n",
    "# -------------------------------\n",
    "from functools import reduce\n",
    "\n",
    "h3_feature_dfs = []\n",
    "\n",
    "for label, tag in feature_tags.items():\n",
    "    h3_df = extract_and_aggregate(label, tag)\n",
    "    h3_feature_dfs.append(h3_df)\n",
    "\n",
    "print(\"Merging all feature tables...\")\n",
    "df_h3_features = reduce(\n",
    "    lambda left, right: pd.merge(left, right, on='h3_level8_index', how='outer'),\n",
    "    h3_feature_dfs\n",
    ")\n",
    "\n",
    "df_h3_features.fillna(0, inplace=True)\n",
    "\n",
    "# -------------------------------\n",
    "# Final Output\n",
    "# -------------------------------\n",
    "print(\"Final H3 feature summary:\")\n"
   ]
  },
  {
   "cell_type": "code",
   "execution_count": 75,
   "id": "518408a3",
   "metadata": {},
   "outputs": [
    {
     "data": {
      "text/html": [
       "<div>\n",
       "<style scoped>\n",
       "    .dataframe tbody tr th:only-of-type {\n",
       "        vertical-align: middle;\n",
       "    }\n",
       "\n",
       "    .dataframe tbody tr th {\n",
       "        vertical-align: top;\n",
       "    }\n",
       "\n",
       "    .dataframe thead th {\n",
       "        text-align: right;\n",
       "    }\n",
       "</style>\n",
       "<table border=\"1\" class=\"dataframe\">\n",
       "  <thead>\n",
       "    <tr style=\"text-align: right;\">\n",
       "      <th></th>\n",
       "      <th>0</th>\n",
       "      <th>1</th>\n",
       "      <th>2</th>\n",
       "      <th>3</th>\n",
       "      <th>4</th>\n",
       "    </tr>\n",
       "  </thead>\n",
       "  <tbody>\n",
       "    <tr>\n",
       "      <th>h3_level8_index</th>\n",
       "      <td>88ad360003fffff</td>\n",
       "      <td>88ad360005fffff</td>\n",
       "      <td>88ad360007fffff</td>\n",
       "      <td>88ad360021fffff</td>\n",
       "      <td>88ad360023fffff</td>\n",
       "    </tr>\n",
       "    <tr>\n",
       "      <th>num_schools</th>\n",
       "      <td>0.0</td>\n",
       "      <td>1.0</td>\n",
       "      <td>1.0</td>\n",
       "      <td>1.0</td>\n",
       "      <td>1.0</td>\n",
       "    </tr>\n",
       "    <tr>\n",
       "      <th>num_shops</th>\n",
       "      <td>0.0</td>\n",
       "      <td>1.0</td>\n",
       "      <td>1.0</td>\n",
       "      <td>0.0</td>\n",
       "      <td>2.0</td>\n",
       "    </tr>\n",
       "    <tr>\n",
       "      <th>num_bus_stops</th>\n",
       "      <td>0.0</td>\n",
       "      <td>0.0</td>\n",
       "      <td>0.0</td>\n",
       "      <td>4.0</td>\n",
       "      <td>5.0</td>\n",
       "    </tr>\n",
       "    <tr>\n",
       "      <th>num_clinics</th>\n",
       "      <td>0.0</td>\n",
       "      <td>0.0</td>\n",
       "      <td>0.0</td>\n",
       "      <td>0.0</td>\n",
       "      <td>0.0</td>\n",
       "    </tr>\n",
       "    <tr>\n",
       "      <th>num_hospitals</th>\n",
       "      <td>0.0</td>\n",
       "      <td>0.0</td>\n",
       "      <td>0.0</td>\n",
       "      <td>0.0</td>\n",
       "      <td>0.0</td>\n",
       "    </tr>\n",
       "    <tr>\n",
       "      <th>num_post_offices</th>\n",
       "      <td>0.0</td>\n",
       "      <td>0.0</td>\n",
       "      <td>0.0</td>\n",
       "      <td>0.0</td>\n",
       "      <td>0.0</td>\n",
       "    </tr>\n",
       "    <tr>\n",
       "      <th>num_pharmacies</th>\n",
       "      <td>0.0</td>\n",
       "      <td>0.0</td>\n",
       "      <td>1.0</td>\n",
       "      <td>0.0</td>\n",
       "      <td>0.0</td>\n",
       "    </tr>\n",
       "    <tr>\n",
       "      <th>num_banks</th>\n",
       "      <td>0.0</td>\n",
       "      <td>0.0</td>\n",
       "      <td>0.0</td>\n",
       "      <td>0.0</td>\n",
       "      <td>2.0</td>\n",
       "    </tr>\n",
       "    <tr>\n",
       "      <th>num_traffic_signals</th>\n",
       "      <td>5.0</td>\n",
       "      <td>4.0</td>\n",
       "      <td>11.0</td>\n",
       "      <td>1.0</td>\n",
       "      <td>0.0</td>\n",
       "    </tr>\n",
       "    <tr>\n",
       "      <th>num_religious_sites</th>\n",
       "      <td>0.0</td>\n",
       "      <td>2.0</td>\n",
       "      <td>0.0</td>\n",
       "      <td>0.0</td>\n",
       "      <td>0.0</td>\n",
       "    </tr>\n",
       "  </tbody>\n",
       "</table>\n",
       "</div>"
      ],
      "text/plain": [
       "                                   0                1                2  \\\n",
       "h3_level8_index      88ad360003fffff  88ad360005fffff  88ad360007fffff   \n",
       "num_schools                      0.0              1.0              1.0   \n",
       "num_shops                        0.0              1.0              1.0   \n",
       "num_bus_stops                    0.0              0.0              0.0   \n",
       "num_clinics                      0.0              0.0              0.0   \n",
       "num_hospitals                    0.0              0.0              0.0   \n",
       "num_post_offices                 0.0              0.0              0.0   \n",
       "num_pharmacies                   0.0              0.0              1.0   \n",
       "num_banks                        0.0              0.0              0.0   \n",
       "num_traffic_signals              5.0              4.0             11.0   \n",
       "num_religious_sites              0.0              2.0              0.0   \n",
       "\n",
       "                                   3                4  \n",
       "h3_level8_index      88ad360021fffff  88ad360023fffff  \n",
       "num_schools                      1.0              1.0  \n",
       "num_shops                        0.0              2.0  \n",
       "num_bus_stops                    4.0              5.0  \n",
       "num_clinics                      0.0              0.0  \n",
       "num_hospitals                    0.0              0.0  \n",
       "num_post_offices                 0.0              0.0  \n",
       "num_pharmacies                   0.0              0.0  \n",
       "num_banks                        0.0              2.0  \n",
       "num_traffic_signals              1.0              0.0  \n",
       "num_religious_sites              0.0              0.0  "
      ]
     },
     "execution_count": 75,
     "metadata": {},
     "output_type": "execute_result"
    }
   ],
   "source": [
    "df_h3_features.head().T"
   ]
  },
  {
   "cell_type": "code",
   "execution_count": 76,
   "id": "b4d51fa6",
   "metadata": {},
   "outputs": [
    {
     "name": "stdout",
     "output_type": "stream",
     "text": [
      "(1501, 4)\n",
      "(1501, 14)\n"
     ]
    },
    {
     "data": {
      "text/html": [
       "<div>\n",
       "<style scoped>\n",
       "    .dataframe tbody tr th:only-of-type {\n",
       "        vertical-align: middle;\n",
       "    }\n",
       "\n",
       "    .dataframe tbody tr th {\n",
       "        vertical-align: top;\n",
       "    }\n",
       "\n",
       "    .dataframe thead th {\n",
       "        text-align: right;\n",
       "    }\n",
       "</style>\n",
       "<table border=\"1\" class=\"dataframe\">\n",
       "  <thead>\n",
       "    <tr style=\"text-align: right;\">\n",
       "      <th></th>\n",
       "      <th>h3_level8_index</th>\n",
       "      <th>num_requests</th>\n",
       "      <th>latitude</th>\n",
       "      <th>longitude</th>\n",
       "      <th>num_schools</th>\n",
       "      <th>num_shops</th>\n",
       "      <th>num_bus_stops</th>\n",
       "      <th>num_clinics</th>\n",
       "      <th>num_hospitals</th>\n",
       "      <th>num_post_offices</th>\n",
       "      <th>num_pharmacies</th>\n",
       "      <th>num_banks</th>\n",
       "      <th>num_traffic_signals</th>\n",
       "      <th>num_religious_sites</th>\n",
       "    </tr>\n",
       "  </thead>\n",
       "  <tbody>\n",
       "    <tr>\n",
       "      <th>0</th>\n",
       "      <td>88ad360001fffff</td>\n",
       "      <td>21</td>\n",
       "      <td>-33.836215</td>\n",
       "      <td>18.494065</td>\n",
       "      <td>0.0</td>\n",
       "      <td>0.0</td>\n",
       "      <td>0.0</td>\n",
       "      <td>0.0</td>\n",
       "      <td>0.0</td>\n",
       "      <td>0.0</td>\n",
       "      <td>0.0</td>\n",
       "      <td>0.0</td>\n",
       "      <td>0.0</td>\n",
       "      <td>0.0</td>\n",
       "    </tr>\n",
       "    <tr>\n",
       "      <th>1</th>\n",
       "      <td>88ad360003fffff</td>\n",
       "      <td>12</td>\n",
       "      <td>-33.832471</td>\n",
       "      <td>18.485002</td>\n",
       "      <td>0.0</td>\n",
       "      <td>0.0</td>\n",
       "      <td>0.0</td>\n",
       "      <td>0.0</td>\n",
       "      <td>0.0</td>\n",
       "      <td>0.0</td>\n",
       "      <td>0.0</td>\n",
       "      <td>0.0</td>\n",
       "      <td>5.0</td>\n",
       "      <td>0.0</td>\n",
       "    </tr>\n",
       "    <tr>\n",
       "      <th>2</th>\n",
       "      <td>88ad360005fffff</td>\n",
       "      <td>54</td>\n",
       "      <td>-33.832063</td>\n",
       "      <td>18.502176</td>\n",
       "      <td>1.0</td>\n",
       "      <td>1.0</td>\n",
       "      <td>0.0</td>\n",
       "      <td>0.0</td>\n",
       "      <td>0.0</td>\n",
       "      <td>0.0</td>\n",
       "      <td>0.0</td>\n",
       "      <td>0.0</td>\n",
       "      <td>4.0</td>\n",
       "      <td>2.0</td>\n",
       "    </tr>\n",
       "    <tr>\n",
       "      <th>3</th>\n",
       "      <td>88ad360007fffff</td>\n",
       "      <td>41</td>\n",
       "      <td>-33.828319</td>\n",
       "      <td>18.493112</td>\n",
       "      <td>1.0</td>\n",
       "      <td>1.0</td>\n",
       "      <td>0.0</td>\n",
       "      <td>0.0</td>\n",
       "      <td>0.0</td>\n",
       "      <td>0.0</td>\n",
       "      <td>1.0</td>\n",
       "      <td>0.0</td>\n",
       "      <td>11.0</td>\n",
       "      <td>0.0</td>\n",
       "    </tr>\n",
       "    <tr>\n",
       "      <th>4</th>\n",
       "      <td>88ad36000dfffff</td>\n",
       "      <td>15</td>\n",
       "      <td>-33.839958</td>\n",
       "      <td>18.503130</td>\n",
       "      <td>0.0</td>\n",
       "      <td>0.0</td>\n",
       "      <td>0.0</td>\n",
       "      <td>0.0</td>\n",
       "      <td>0.0</td>\n",
       "      <td>0.0</td>\n",
       "      <td>0.0</td>\n",
       "      <td>0.0</td>\n",
       "      <td>0.0</td>\n",
       "      <td>0.0</td>\n",
       "    </tr>\n",
       "  </tbody>\n",
       "</table>\n",
       "</div>"
      ],
      "text/plain": [
       "   h3_level8_index  num_requests   latitude  longitude  num_schools  \\\n",
       "0  88ad360001fffff            21 -33.836215  18.494065          0.0   \n",
       "1  88ad360003fffff            12 -33.832471  18.485002          0.0   \n",
       "2  88ad360005fffff            54 -33.832063  18.502176          1.0   \n",
       "3  88ad360007fffff            41 -33.828319  18.493112          1.0   \n",
       "4  88ad36000dfffff            15 -33.839958  18.503130          0.0   \n",
       "\n",
       "   num_shops  num_bus_stops  num_clinics  num_hospitals  num_post_offices  \\\n",
       "0        0.0            0.0          0.0            0.0               0.0   \n",
       "1        0.0            0.0          0.0            0.0               0.0   \n",
       "2        1.0            0.0          0.0            0.0               0.0   \n",
       "3        1.0            0.0          0.0            0.0               0.0   \n",
       "4        0.0            0.0          0.0            0.0               0.0   \n",
       "\n",
       "   num_pharmacies  num_banks  num_traffic_signals  num_religious_sites  \n",
       "0             0.0        0.0                  0.0                  0.0  \n",
       "1             0.0        0.0                  5.0                  0.0  \n",
       "2             0.0        0.0                  4.0                  2.0  \n",
       "3             1.0        0.0                 11.0                  0.0  \n",
       "4             0.0        0.0                  0.0                  0.0  "
      ]
     },
     "execution_count": 76,
     "metadata": {},
     "output_type": "execute_result"
    }
   ],
   "source": [
    "#merge df_h3_features with df_type\n",
    "print(df_type.shape)\n",
    "df_type = pd.merge(df_type, df_h3_features, on='h3_level8_index', how='left')\n",
    "df_type.fillna(0,inplace=True)\n",
    "print(df_type.shape)\n",
    "df_type.head()"
   ]
  },
  {
   "cell_type": "code",
   "execution_count": 78,
   "id": "d276c089",
   "metadata": {},
   "outputs": [
    {
     "data": {
      "text/html": [
       "<div>\n",
       "<style scoped>\n",
       "    .dataframe tbody tr th:only-of-type {\n",
       "        vertical-align: middle;\n",
       "    }\n",
       "\n",
       "    .dataframe tbody tr th {\n",
       "        vertical-align: top;\n",
       "    }\n",
       "\n",
       "    .dataframe thead th {\n",
       "        text-align: right;\n",
       "    }\n",
       "</style>\n",
       "<table border=\"1\" class=\"dataframe\">\n",
       "  <thead>\n",
       "    <tr style=\"text-align: right;\">\n",
       "      <th></th>\n",
       "      <th>h3_level8_index</th>\n",
       "      <th>num_unique_request_types</th>\n",
       "    </tr>\n",
       "  </thead>\n",
       "  <tbody>\n",
       "    <tr>\n",
       "      <th>685</th>\n",
       "      <td>88ad361519fffff</td>\n",
       "      <td>185</td>\n",
       "    </tr>\n",
       "    <tr>\n",
       "      <th>716</th>\n",
       "      <td>88ad3615c1fffff</td>\n",
       "      <td>164</td>\n",
       "    </tr>\n",
       "    <tr>\n",
       "      <th>698</th>\n",
       "      <td>88ad361547fffff</td>\n",
       "      <td>164</td>\n",
       "    </tr>\n",
       "    <tr>\n",
       "      <th>697</th>\n",
       "      <td>88ad361545fffff</td>\n",
       "      <td>161</td>\n",
       "    </tr>\n",
       "    <tr>\n",
       "      <th>123</th>\n",
       "      <td>88ad36024bfffff</td>\n",
       "      <td>155</td>\n",
       "    </tr>\n",
       "  </tbody>\n",
       "</table>\n",
       "</div>"
      ],
      "text/plain": [
       "     h3_level8_index  num_unique_request_types\n",
       "685  88ad361519fffff                       185\n",
       "716  88ad3615c1fffff                       164\n",
       "698  88ad361547fffff                       164\n",
       "697  88ad361545fffff                       161\n",
       "123  88ad36024bfffff                       155"
      ]
     },
     "execution_count": 78,
     "metadata": {},
     "output_type": "execute_result"
    }
   ],
   "source": [
    "#Number of request types (excluding TARGET_TYPE)  per h3_level8_index\n",
    "\n",
    "unique_types_per_hex = df[df.code != TARGET_TYPE].groupby('h3_level8_index')['code'].nunique().reset_index()\n",
    "unique_types_per_hex.columns = ['h3_level8_index', 'num_unique_request_types']\n",
    "\n",
    "# Preview result\n",
    "unique_types_per_hex.sort_values('num_unique_request_types', ascending=False).head()"
   ]
  },
  {
   "cell_type": "code",
   "execution_count": 79,
   "id": "06e97be7",
   "metadata": {},
   "outputs": [
    {
     "name": "stdout",
     "output_type": "stream",
     "text": [
      "(1501, 14)\n",
      "(1501, 15)\n"
     ]
    }
   ],
   "source": [
    "#merge unique_types_per_hex with df_type\n",
    "print(df_type.shape)\n",
    "df_type = pd.merge(df_type, unique_types_per_hex, on='h3_level8_index', how='left')\n",
    "df_type.fillna(0,inplace=True)\n",
    "print(df_type.shape)"
   ]
  },
  {
   "cell_type": "code",
   "execution_count": 82,
   "id": "ce2bdfd9",
   "metadata": {},
   "outputs": [
    {
     "name": "stdout",
     "output_type": "stream",
     "text": [
      "(1501, 15)\n",
      "(1501, 17)\n"
     ]
    }
   ],
   "source": [
    "#dominant request type per h3_level8_index excluding TARGET_TYPE\n",
    "\n",
    "dominant_counts = (\n",
    "    df[df.code != TARGET_TYPE].groupby(['h3_level8_index', 'code']).size()\n",
    "    .reset_index(name='count')\n",
    "    .sort_values(['h3_level8_index', 'count'], ascending=[True, False])\n",
    "    .drop_duplicates('h3_level8_index')\n",
    "    .rename(columns={'code': 'dominant_request_type', 'count': 'dominant_type_count'})\n",
    ")\n",
    "\n",
    "#merge dominant_counts with df_type\n",
    "print(df_type.shape)\n",
    "df_type = pd.merge(df_type, dominant_counts, on='h3_level8_index', how='left')\n",
    "df_type.fillna(0,inplace=True)\n",
    "print(df_type.shape)"
   ]
  },
  {
   "cell_type": "code",
   "execution_count": 90,
   "id": "bfe3b585",
   "metadata": {},
   "outputs": [
    {
     "data": {
      "text/plain": [
       "h3_level8_index              object\n",
       "num_requests                  int64\n",
       "latitude                    float64\n",
       "longitude                   float64\n",
       "num_schools                 float64\n",
       "num_shops                   float64\n",
       "num_bus_stops               float64\n",
       "num_clinics                 float64\n",
       "num_hospitals               float64\n",
       "num_post_offices            float64\n",
       "num_pharmacies              float64\n",
       "num_banks                   float64\n",
       "num_traffic_signals         float64\n",
       "num_religious_sites         float64\n",
       "num_unique_request_types    float64\n",
       "dominant_request_type        object\n",
       "dominant_type_count         float64\n",
       "dtype: object"
      ]
     },
     "execution_count": 90,
     "metadata": {},
     "output_type": "execute_result"
    }
   ],
   "source": [
    "df_type.dtypes"
   ]
  },
  {
   "cell_type": "code",
   "execution_count": 101,
   "id": "80bcd38f",
   "metadata": {},
   "outputs": [
    {
     "name": "stdout",
     "output_type": "stream",
     "text": [
      "[LightGBM] [Info] Auto-choosing row-wise multi-threading, the overhead of testing was 0.000179 seconds.\n",
      "You can set `force_row_wise=true` to remove the overhead.\n",
      "And if memory is not enough, you can set `force_col_wise=true`.\n",
      "[LightGBM] [Info] Total Bins 932\n",
      "[LightGBM] [Info] Number of data points in the train set: 1125, number of used features: 23\n",
      "[LightGBM] [Info] Start training from score 85.727111\n",
      "RMSE: 105.959589492705\n",
      "R2: 0.4076106852143727\n"
     ]
    }
   ],
   "source": [
    "# Train the model\n",
    "\n",
    "X = df_type.drop(columns = [\"num_requests\"], axis = 1)\n",
    "X = X.set_index(\"h3_level8_index\")\n",
    "y = df_type[\"num_requests\"]\n",
    "\n",
    "X_train, X_test, y_train, y_test = train_test_split(X, y,random_state=42)\n",
    "\n",
    "#Ensure categorical columns are all string type\n",
    "X_train[categorical_features] = X_train[categorical_features].astype(str)\n",
    "X_test[categorical_features] = X_test[categorical_features].astype(str)\n",
    "\n",
    "numeric_features = selector(dtype_include='number')(X_train)\n",
    "categorical_features = selector(dtype_include='object')(X_train)\n",
    "\n",
    "# Pipelines\n",
    "numeric_pipeline = Pipeline([\n",
    "    ('imputer', SimpleImputer(strategy='mean')),\n",
    "    ('scaler', StandardScaler())\n",
    "])\n",
    "categorical_pipeline = Pipeline([\n",
    "    ('imputer', SimpleImputer(strategy='most_frequent')),\n",
    "    ('onehot', OneHotEncoder(handle_unknown='ignore'))\n",
    "])\n",
    "\n",
    "preprocessor = ColumnTransformer([\n",
    "    ('num', numeric_pipeline, numeric_features),\n",
    "    ('cat', categorical_pipeline, categorical_features)\n",
    "])\n",
    "\n",
    "pipeline = Pipeline([\n",
    "    ('preprocessor', preprocessor),\n",
    "('regressor', LGBMRegressor(random_state=42))\n",
    "])  #LGBMRegressor(random_state=42)  RandomForestRegressor(random_state=42)\n",
    "\n",
    "pipeline.fit(X_train, y_train)\n",
    "y_pred = pipeline.predict(X_test)\n",
    "\n",
    "print(\"RMSE:\", mean_squared_error(y_test, y_pred, squared=False))\n",
    "print(\"R2:\", r2_score(y_test, y_pred))"
   ]
  },
  {
   "cell_type": "markdown",
   "id": "44aea7d8",
   "metadata": {},
   "source": [
    "### Hyperparameter Tuning"
   ]
  },
  {
   "cell_type": "code",
   "execution_count": 103,
   "id": "5258bd93",
   "metadata": {},
   "outputs": [
    {
     "name": "stderr",
     "output_type": "stream",
     "text": [
      "[I 2025-07-06 12:02:20,550] A new study created in memory with name: no-name-b5437920-9d58-4354-9d77-0eda22be579d\n",
      "[I 2025-07-06 12:02:20,684] Trial 0 finished with value: 124.80511298264038 and parameters: {'n_estimators': 122, 'max_depth': 2, 'min_samples_split': 5, 'min_samples_leaf': 15, 'max_features': 'sqrt'}. Best is trial 0 with value: 124.80511298264038.\n",
      "[I 2025-07-06 12:02:20,958] Trial 1 finished with value: 123.93167657553317 and parameters: {'n_estimators': 247, 'max_depth': 2, 'min_samples_split': 16, 'min_samples_leaf': 11, 'max_features': 'sqrt'}. Best is trial 1 with value: 123.93167657553317.\n",
      "[I 2025-07-06 12:02:21,339] Trial 2 finished with value: 105.88444339653027 and parameters: {'n_estimators': 101, 'max_depth': 9, 'min_samples_split': 2, 'min_samples_leaf': 13, 'max_features': 'auto'}. Best is trial 2 with value: 105.88444339653027.\n",
      "[I 2025-07-06 12:02:21,618] Trial 3 finished with value: 112.34373584808802 and parameters: {'n_estimators': 242, 'max_depth': 10, 'min_samples_split': 10, 'min_samples_leaf': 9, 'max_features': 'sqrt'}. Best is trial 2 with value: 105.88444339653027.\n",
      "[I 2025-07-06 12:02:22,049] Trial 4 finished with value: 114.95993903950531 and parameters: {'n_estimators': 273, 'max_depth': 2, 'min_samples_split': 10, 'min_samples_leaf': 3, 'max_features': 'auto'}. Best is trial 2 with value: 105.88444339653027.\n",
      "[I 2025-07-06 12:02:22,685] Trial 5 finished with value: 106.70482638862543 and parameters: {'n_estimators': 265, 'max_depth': 4, 'min_samples_split': 15, 'min_samples_leaf': 10, 'max_features': 'auto'}. Best is trial 2 with value: 105.88444339653027.\n",
      "[I 2025-07-06 12:02:22,947] Trial 6 finished with value: 125.14384818531404 and parameters: {'n_estimators': 280, 'max_depth': 3, 'min_samples_split': 6, 'min_samples_leaf': 18, 'max_features': 'log2'}. Best is trial 2 with value: 105.88444339653027.\n",
      "[I 2025-07-06 12:02:23,063] Trial 7 finished with value: 120.10251600978735 and parameters: {'n_estimators': 108, 'max_depth': 4, 'min_samples_split': 15, 'min_samples_leaf': 3, 'max_features': 'log2'}. Best is trial 2 with value: 105.88444339653027.\n",
      "[I 2025-07-06 12:02:23,374] Trial 8 finished with value: 114.00126284490105 and parameters: {'n_estimators': 288, 'max_depth': 28, 'min_samples_split': 12, 'min_samples_leaf': 11, 'max_features': 'sqrt'}. Best is trial 2 with value: 105.88444339653027.\n",
      "[I 2025-07-06 12:02:23,483] Trial 9 finished with value: 118.80122115080698 and parameters: {'n_estimators': 99, 'max_depth': 28, 'min_samples_split': 20, 'min_samples_leaf': 9, 'max_features': 'log2'}. Best is trial 2 with value: 105.88444339653027.\n",
      "[I 2025-07-06 12:02:23,707] Trial 10 finished with value: 107.46465724310708 and parameters: {'n_estimators': 64, 'max_depth': 10, 'min_samples_split': 2, 'min_samples_leaf': 20, 'max_features': 'auto'}. Best is trial 2 with value: 105.88444339653027.\n",
      "[I 2025-07-06 12:02:24,315] Trial 11 finished with value: 105.05633959500099 and parameters: {'n_estimators': 177, 'max_depth': 6, 'min_samples_split': 17, 'min_samples_leaf': 14, 'max_features': 'auto'}. Best is trial 11 with value: 105.05633959500099.\n",
      "[I 2025-07-06 12:02:24,968] Trial 12 finished with value: 105.98139042748282 and parameters: {'n_estimators': 178, 'max_depth': 7, 'min_samples_split': 18, 'min_samples_leaf': 15, 'max_features': 'auto'}. Best is trial 11 with value: 105.05633959500099.\n",
      "[I 2025-07-06 12:02:25,621] Trial 13 finished with value: 105.22034594252652 and parameters: {'n_estimators': 166, 'max_depth': 16, 'min_samples_split': 7, 'min_samples_leaf': 14, 'max_features': 'auto'}. Best is trial 11 with value: 105.05633959500099.\n",
      "[I 2025-07-06 12:02:26,266] Trial 14 finished with value: 105.6278577284896 and parameters: {'n_estimators': 189, 'max_depth': 17, 'min_samples_split': 8, 'min_samples_leaf': 16, 'max_features': 'auto'}. Best is trial 11 with value: 105.05633959500099.\n",
      "[I 2025-07-06 12:02:27,272] Trial 15 finished with value: 103.96887776435766 and parameters: {'n_estimators': 210, 'max_depth': 16, 'min_samples_split': 13, 'min_samples_leaf': 6, 'max_features': 'auto'}. Best is trial 15 with value: 103.96887776435766.\n",
      "[I 2025-07-06 12:02:28,457] Trial 16 finished with value: 103.82268012023424 and parameters: {'n_estimators': 220, 'max_depth': 16, 'min_samples_split': 13, 'min_samples_leaf': 5, 'max_features': 'auto'}. Best is trial 16 with value: 103.82268012023424.\n",
      "[I 2025-07-06 12:02:29,575] Trial 17 finished with value: 104.53535731593936 and parameters: {'n_estimators': 218, 'max_depth': 17, 'min_samples_split': 13, 'min_samples_leaf': 6, 'max_features': 'auto'}. Best is trial 16 with value: 103.82268012023424.\n",
      "[I 2025-07-06 12:02:30,856] Trial 18 finished with value: 103.06808936818784 and parameters: {'n_estimators': 225, 'max_depth': 14, 'min_samples_split': 13, 'min_samples_leaf': 6, 'max_features': 'auto'}. Best is trial 18 with value: 103.06808936818784.\n",
      "[I 2025-07-06 12:02:31,026] Trial 19 finished with value: 116.6217601692502 and parameters: {'n_estimators': 145, 'max_depth': 21, 'min_samples_split': 9, 'min_samples_leaf': 6, 'max_features': 'log2'}. Best is trial 18 with value: 103.06808936818784.\n",
      "[I 2025-07-06 12:02:32,139] Trial 20 finished with value: 105.02848381391816 and parameters: {'n_estimators': 220, 'max_depth': 11, 'min_samples_split': 14, 'min_samples_leaf': 2, 'max_features': 'auto'}. Best is trial 18 with value: 103.06808936818784.\n",
      "[I 2025-07-06 12:02:33,139] Trial 21 finished with value: 103.37848458719377 and parameters: {'n_estimators': 203, 'max_depth': 13, 'min_samples_split': 12, 'min_samples_leaf': 6, 'max_features': 'auto'}. Best is trial 18 with value: 103.06808936818784.\n",
      "[I 2025-07-06 12:02:34,471] Trial 22 finished with value: 103.20951281498417 and parameters: {'n_estimators': 242, 'max_depth': 12, 'min_samples_split': 11, 'min_samples_leaf': 5, 'max_features': 'auto'}. Best is trial 18 with value: 103.06808936818784.\n",
      "[I 2025-07-06 12:02:36,049] Trial 23 finished with value: 110.02171122298455 and parameters: {'n_estimators': 245, 'max_depth': 12, 'min_samples_split': 11, 'min_samples_leaf': 1, 'max_features': 'auto'}. Best is trial 18 with value: 103.06808936818784.\n",
      "[I 2025-07-06 12:02:36,825] Trial 24 finished with value: 104.26124949739658 and parameters: {'n_estimators': 197, 'max_depth': 7, 'min_samples_split': 12, 'min_samples_leaf': 8, 'max_features': 'auto'}. Best is trial 18 with value: 103.06808936818784.\n",
      "[I 2025-07-06 12:02:38,128] Trial 25 finished with value: 103.66312371633326 and parameters: {'n_estimators': 239, 'max_depth': 22, 'min_samples_split': 11, 'min_samples_leaf': 4, 'max_features': 'auto'}. Best is trial 18 with value: 103.06808936818784.\n",
      "[I 2025-07-06 12:02:39,398] Trial 26 finished with value: 103.66969582715738 and parameters: {'n_estimators': 257, 'max_depth': 13, 'min_samples_split': 9, 'min_samples_leaf': 7, 'max_features': 'auto'}. Best is trial 18 with value: 103.06808936818784.\n",
      "[I 2025-07-06 12:02:40,844] Trial 27 finished with value: 104.61612264738089 and parameters: {'n_estimators': 299, 'max_depth': 22, 'min_samples_split': 18, 'min_samples_leaf': 4, 'max_features': 'auto'}. Best is trial 18 with value: 103.06808936818784.\n",
      "[I 2025-07-06 12:02:41,073] Trial 28 finished with value: 111.28830357228063 and parameters: {'n_estimators': 153, 'max_depth': 8, 'min_samples_split': 15, 'min_samples_leaf': 8, 'max_features': 'sqrt'}. Best is trial 18 with value: 103.06808936818784.\n",
      "[I 2025-07-06 12:02:41,332] Trial 29 finished with value: 117.10375420157631 and parameters: {'n_estimators': 205, 'max_depth': 5, 'min_samples_split': 6, 'min_samples_leaf': 1, 'max_features': 'log2'}. Best is trial 18 with value: 103.06808936818784.\n",
      "[I 2025-07-06 12:02:41,709] Trial 30 finished with value: 108.94279239892816 and parameters: {'n_estimators': 230, 'max_depth': 14, 'min_samples_split': 12, 'min_samples_leaf': 5, 'max_features': 'sqrt'}. Best is trial 18 with value: 103.06808936818784.\n",
      "[I 2025-07-06 12:02:42,960] Trial 31 finished with value: 103.37467568285662 and parameters: {'n_estimators': 241, 'max_depth': 21, 'min_samples_split': 11, 'min_samples_leaf': 4, 'max_features': 'auto'}. Best is trial 18 with value: 103.06808936818784.\n",
      "[I 2025-07-06 12:02:44,387] Trial 32 finished with value: 104.10451206347516 and parameters: {'n_estimators': 257, 'max_depth': 32, 'min_samples_split': 10, 'min_samples_leaf': 4, 'max_features': 'auto'}. Best is trial 18 with value: 103.06808936818784.\n",
      "[I 2025-07-06 12:02:45,297] Trial 33 finished with value: 103.95753297148478 and parameters: {'n_estimators': 192, 'max_depth': 21, 'min_samples_split': 14, 'min_samples_leaf': 7, 'max_features': 'auto'}. Best is trial 18 with value: 103.06808936818784.\n",
      "[I 2025-07-06 12:02:46,471] Trial 34 finished with value: 103.6482188201867 and parameters: {'n_estimators': 226, 'max_depth': 9, 'min_samples_split': 9, 'min_samples_leaf': 3, 'max_features': 'auto'}. Best is trial 18 with value: 103.06808936818784.\n",
      "[I 2025-07-06 12:02:46,850] Trial 35 finished with value: 110.30056416901921 and parameters: {'n_estimators': 236, 'max_depth': 13, 'min_samples_split': 4, 'min_samples_leaf': 5, 'max_features': 'sqrt'}. Best is trial 18 with value: 103.06808936818784.\n",
      "[I 2025-07-06 12:02:47,998] Trial 36 finished with value: 103.54161727192462 and parameters: {'n_estimators': 272, 'max_depth': 19, 'min_samples_split': 11, 'min_samples_leaf': 9, 'max_features': 'auto'}. Best is trial 18 with value: 103.06808936818784.\n",
      "[I 2025-07-06 12:02:49,033] Trial 37 finished with value: 104.84737574490947 and parameters: {'n_estimators': 249, 'max_depth': 11, 'min_samples_split': 16, 'min_samples_leaf': 12, 'max_features': 'auto'}. Best is trial 18 with value: 103.06808936818784.\n",
      "[I 2025-07-06 12:02:50,279] Trial 38 finished with value: 105.00879293024441 and parameters: {'n_estimators': 207, 'max_depth': 27, 'min_samples_split': 10, 'min_samples_leaf': 2, 'max_features': 'auto'}. Best is trial 18 with value: 103.06808936818784.\n",
      "[I 2025-07-06 12:02:50,631] Trial 39 finished with value: 111.07207626120501 and parameters: {'n_estimators': 256, 'max_depth': 8, 'min_samples_split': 14, 'min_samples_leaf': 7, 'max_features': 'sqrt'}. Best is trial 18 with value: 103.06808936818784.\n",
      "[I 2025-07-06 12:02:50,888] Trial 40 finished with value: 108.40473056992772 and parameters: {'n_estimators': 135, 'max_depth': 14, 'min_samples_split': 8, 'min_samples_leaf': 2, 'max_features': 'log2'}. Best is trial 18 with value: 103.06808936818784.\n",
      "[I 2025-07-06 12:02:52,030] Trial 41 finished with value: 104.15135569268651 and parameters: {'n_estimators': 273, 'max_depth': 20, 'min_samples_split': 11, 'min_samples_leaf': 10, 'max_features': 'auto'}. Best is trial 18 with value: 103.06808936818784.\n",
      "[I 2025-07-06 12:02:54,138] Trial 42 finished with value: 103.78156238834619 and parameters: {'n_estimators': 285, 'max_depth': 25, 'min_samples_split': 12, 'min_samples_leaf': 7, 'max_features': 'auto'}. Best is trial 18 with value: 103.06808936818784.\n",
      "[I 2025-07-06 12:02:55,308] Trial 43 finished with value: 103.81245327215866 and parameters: {'n_estimators': 273, 'max_depth': 18, 'min_samples_split': 10, 'min_samples_leaf': 9, 'max_features': 'auto'}. Best is trial 18 with value: 103.06808936818784.\n",
      "[I 2025-07-06 12:02:56,389] Trial 44 finished with value: 105.16002505283092 and parameters: {'n_estimators': 266, 'max_depth': 10, 'min_samples_split': 13, 'min_samples_leaf': 12, 'max_features': 'auto'}. Best is trial 18 with value: 103.06808936818784.\n",
      "[I 2025-07-06 12:02:57,632] Trial 45 finished with value: 103.53512062572686 and parameters: {'n_estimators': 298, 'max_depth': 14, 'min_samples_split': 11, 'min_samples_leaf': 9, 'max_features': 'auto'}. Best is trial 18 with value: 103.06808936818784.\n",
      "[I 2025-07-06 12:02:58,618] Trial 46 finished with value: 103.10787216597116 and parameters: {'n_estimators': 166, 'max_depth': 14, 'min_samples_split': 12, 'min_samples_leaf': 5, 'max_features': 'auto'}. Best is trial 18 with value: 103.06808936818784.\n",
      "[I 2025-07-06 12:02:59,027] Trial 47 finished with value: 110.13749741062371 and parameters: {'n_estimators': 162, 'max_depth': 3, 'min_samples_split': 15, 'min_samples_leaf': 4, 'max_features': 'auto'}. Best is trial 18 with value: 103.06808936818784.\n",
      "[I 2025-07-06 12:02:59,193] Trial 48 finished with value: 115.30518106666806 and parameters: {'n_estimators': 123, 'max_depth': 9, 'min_samples_split': 12, 'min_samples_leaf': 3, 'max_features': 'log2'}. Best is trial 18 with value: 103.06808936818784.\n",
      "[I 2025-07-06 12:03:00,078] Trial 49 finished with value: 104.23649029440048 and parameters: {'n_estimators': 181, 'max_depth': 24, 'min_samples_split': 14, 'min_samples_leaf': 5, 'max_features': 'auto'}. Best is trial 18 with value: 103.06808936818784.\n"
     ]
    },
    {
     "name": "stdout",
     "output_type": "stream",
     "text": [
      "Best hyperparameters: {'n_estimators': 225, 'max_depth': 14, 'min_samples_split': 13, 'min_samples_leaf': 6, 'max_features': 'auto'}\n",
      "Best RMSE: 103.06808936818784\n"
     ]
    }
   ],
   "source": [
    "def objective(trial):\n",
    "    params = {\n",
    "        'n_estimators': trial.suggest_int('n_estimators', 50, 300),\n",
    "        'max_depth': trial.suggest_int('max_depth', 2, 32, log=True),\n",
    "        'min_samples_split': trial.suggest_int('min_samples_split', 2, 20),\n",
    "        'min_samples_leaf': trial.suggest_int('min_samples_leaf', 1, 20),\n",
    "        'max_features': trial.suggest_categorical('max_features', ['auto', 'sqrt', 'log2']),\n",
    "    }\n",
    "    num_cols = X.select_dtypes(include=\"number\").columns.tolist()\n",
    "    cat_cols = X.select_dtypes(include=\"object\").columns.tolist()\n",
    "    \n",
    "    numeric_pipeline = Pipeline([(\"imputer\", SimpleImputer()), (\"scaler\", StandardScaler())])\n",
    "    categorical_pipeline = Pipeline([(\"imputer\", SimpleImputer(strategy=\"most_frequent\")), (\"encoder\", OneHotEncoder(handle_unknown=\"ignore\"))])\n",
    "    \n",
    "    preprocessor = ColumnTransformer([(\"num\", numeric_pipeline, num_cols), (\"cat\", categorical_pipeline, cat_cols)])\n",
    "    \n",
    "    model = Pipeline([(\"pre\", preprocessor), (\"model\",RandomForestRegressor(**params))]) \n",
    "    model.fit(X_train, y_train)\n",
    "    predictions = model.predict(X_test)\n",
    "    rmse = mean_squared_error(y_test, predictions, squared=False)\n",
    "    return rmse\n",
    "\n",
    "study = optuna.create_study(direction='minimize')\n",
    "study.optimize(objective, n_trials=50)\n",
    "\n",
    "print('Best hyperparameters:', study.best_params)\n",
    "print('Best RMSE:', study.best_value)"
   ]
  },
  {
   "cell_type": "code",
   "execution_count": 104,
   "id": "357892da",
   "metadata": {},
   "outputs": [
    {
     "name": "stdout",
     "output_type": "stream",
     "text": [
      "RMSE: 103.43899680368105\n",
      "R2: 0.4354592680579895\n"
     ]
    }
   ],
   "source": [
    "params =  study.best_params\n",
    "\n",
    "num_cols = X.select_dtypes(include=\"number\").columns.tolist()\n",
    "cat_cols = X.select_dtypes(include=\"object\").columns.tolist()\n",
    "\n",
    "numeric_pipeline = Pipeline([(\"imputer\", SimpleImputer()), (\"scaler\", StandardScaler())])\n",
    "categorical_pipeline = Pipeline([(\"imputer\", SimpleImputer(strategy=\"most_frequent\")), (\"encoder\", OneHotEncoder(handle_unknown=\"ignore\"))])\n",
    "\n",
    "preprocessor = ColumnTransformer([(\"num\", numeric_pipeline, num_cols), (\"cat\", categorical_pipeline, cat_cols)])\n",
    "\n",
    "model = Pipeline([(\"pre\", preprocessor), (\"model\",RandomForestRegressor(**params))]) \n",
    "model.fit(X_train, y_train)\n",
    "y_pred = model.predict(X_test)\n",
    "\n",
    "print(\"RMSE:\", mean_squared_error(y_test, y_pred, squared=False))\n",
    "print(\"R2:\", r2_score(y_test, y_pred))"
   ]
  },
  {
   "cell_type": "code",
   "execution_count": null,
   "id": "4db1f7b4",
   "metadata": {},
   "outputs": [],
   "source": []
  },
  {
   "cell_type": "code",
   "execution_count": null,
   "id": "e7cf1ce5",
   "metadata": {},
   "outputs": [],
   "source": []
  },
  {
   "cell_type": "code",
   "execution_count": null,
   "id": "776c0cde",
   "metadata": {},
   "outputs": [],
   "source": []
  }
 ],
 "metadata": {
  "kernelspec": {
   "display_name": "ds-env",
   "language": "python",
   "name": "python3"
  },
  "language_info": {
   "codemirror_mode": {
    "name": "ipython",
    "version": 3
   },
   "file_extension": ".py",
   "mimetype": "text/x-python",
   "name": "python",
   "nbconvert_exporter": "python",
   "pygments_lexer": "ipython3",
   "version": "3.10.18"
  }
 },
 "nbformat": 4,
 "nbformat_minor": 5
}
